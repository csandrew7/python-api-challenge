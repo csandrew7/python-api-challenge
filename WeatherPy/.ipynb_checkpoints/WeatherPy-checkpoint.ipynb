{
 "cells": [
  {
   "cell_type": "markdown",
   "metadata": {},
   "source": [
    "# WeatherPy\n",
    "----\n",
    "\n",
    "#### Note\n",
    "* Instructions have been included for each segment. You do not have to follow them exactly, but they are included to help you think through the steps."
   ]
  },
  {
   "cell_type": "markdown",
   "metadata": {},
   "source": [
    "### Observerable Trends\n",
    "\n",
    "1. Temperatures are higher closer to the equator of the world and are lower in the Southern Hemisphere compared to the Northern Hemisphere.\n",
    "2. There seems to be no correlation between humidity and latitude as well as cloudiness and latitude.\n",
    "3. Wind speeds have a higher maximum in the northern hempisphere compared to the southern hemisphere"
   ]
  },
  {
   "cell_type": "code",
   "execution_count": 3,
   "metadata": {
    "scrolled": true
   },
   "outputs": [],
   "source": [
    "import random\n",
    "import pandas as pd\n",
    "import matplotlib.pyplot as plt\n",
    "import numpy as np\n",
    "import requests\n",
    "import json\n",
    "import time\n",
    "from scipy.stats import linregress\n",
    "from pprint import pprint\n",
    "from citipy import citipy\n",
    "from api_keys import weather_api_key\n",
    "from api_keys import g_key\n",
    "lat_range = (-90, 90)\n",
    "lng_range = (-180,180)"
   ]
  },
  {
   "cell_type": "markdown",
   "metadata": {},
   "source": [
    "## Generate Cities List"
   ]
  },
  {
   "cell_type": "code",
   "execution_count": 4,
   "metadata": {},
   "outputs": [
    {
     "data": {
      "text/plain": [
       "616"
      ]
     },
     "execution_count": 4,
     "metadata": {},
     "output_type": "execute_result"
    }
   ],
   "source": [
    "lat_lngs = []\n",
    "cities = []\n",
    "\n",
    "lats = np.random.uniform(low = -90.000, high = 90.000, size = 1500 )\n",
    "lngs = np.random.uniform(low = -180.000, high = 180.000, size = 1500)\n",
    "lat_lngs = zip(lats, lngs)\n",
    "\n",
    "for lat_lng in lat_lngs:\n",
    "    city = citipy.nearest_city(lat_lng[0], lat_lng[1]).city_name\n",
    "    \n",
    "    if city not in cities:\n",
    "        cities.append(city)\n",
    "\n",
    "len(cities)"
   ]
  },
  {
   "cell_type": "markdown",
   "metadata": {},
   "source": [
    "### Perform API Calls\n",
    "* Perform a weather check on each city using a series of successive API calls.\n",
    "* Include a print log of each city as it'sbeing processed (with the city number and city name).\n"
   ]
  },
  {
   "cell_type": "code",
   "execution_count": 5,
   "metadata": {
    "scrolled": false
   },
   "outputs": [
    {
     "name": "stdout",
     "output_type": "stream",
     "text": [
      "{\n",
      "    \"coord\": {\n",
      "        \"lon\": 145.7966,\n",
      "        \"lat\": -5.2246\n",
      "    },\n",
      "    \"weather\": [\n",
      "        {\n",
      "            \"id\": 804,\n",
      "            \"main\": \"Clouds\",\n",
      "            \"description\": \"overcast clouds\",\n",
      "            \"icon\": \"04n\"\n",
      "        }\n",
      "    ],\n",
      "    \"base\": \"stations\",\n",
      "    \"main\": {\n",
      "        \"temp\": 80.46,\n",
      "        \"feels_like\": 88.03,\n",
      "        \"temp_min\": 80.46,\n",
      "        \"temp_max\": 80.46,\n",
      "        \"pressure\": 1007,\n",
      "        \"humidity\": 79,\n",
      "        \"sea_level\": 1007,\n",
      "        \"grnd_level\": 1007\n",
      "    },\n",
      "    \"visibility\": 10000,\n",
      "    \"wind\": {\n",
      "        \"speed\": 3.22,\n",
      "        \"deg\": 67,\n",
      "        \"gust\": 5.61\n",
      "    },\n",
      "    \"clouds\": {\n",
      "        \"all\": 99\n",
      "    },\n",
      "    \"dt\": 1616230927,\n",
      "    \"sys\": {\n",
      "        \"country\": \"PG\",\n",
      "        \"sunrise\": 1616185257,\n",
      "        \"sunset\": 1616228868\n",
      "    },\n",
      "    \"timezone\": 36000,\n",
      "    \"id\": 2091996,\n",
      "    \"name\": \"Madang\",\n",
      "    \"cod\": 200\n",
      "}\n"
     ]
    }
   ],
   "source": [
    "url = \"http://api.openweathermap.org/data/2.5/weather?\"\n",
    "units = \"imperial\"\n",
    "query_url = f\"{url}appid={weather_api_key}&units={units}&q=\"\n",
    "\n",
    "weather_response = requests.get(query_url + city)\n",
    "weather_json = weather_response.json()\n",
    "print(json.dumps(weather_json, indent=4))"
   ]
  },
  {
   "cell_type": "code",
   "execution_count": 6,
   "metadata": {},
   "outputs": [
    {
     "name": "stdout",
     "output_type": "stream",
     "text": [
      "<Response [200]>\n"
     ]
    }
   ],
   "source": [
    "print(requests.get(query_url + city))"
   ]
  },
  {
   "cell_type": "code",
   "execution_count": 7,
   "metadata": {},
   "outputs": [
    {
     "name": "stdout",
     "output_type": "stream",
     "text": [
      "Beginning Data Retrieval\n",
      "----------\n",
      "Processing City # 1 | New Norfolk\n",
      "Processing City # 2 | Busselton\n",
      "Processing City # 3 | Noyabrsk\n",
      "Processing City # 4 | Port Elizabeth\n",
      "Processing City # 5 | Punta Arenas\n",
      "Processing City # 6 | Morondava\n",
      "Processing City # 7 | Ponta do Sol\n",
      "Processing City # 8 | Cabo San Lucas\n",
      "Processing City # 9 | Yar-Sale\n",
      "Processing City # 10 | Cidreira\n",
      "Processing City # 11 | Vaini\n",
      "Processing City # 12 | Tuktoyaktuk\n",
      "Processing City # 13 | Thanh Hoa\n",
      "Processing City # 14 | Tadine\n",
      "City not found. Skipping..\n",
      "Processing City # 15 | Saint Paul Harbor\n",
      "Processing City # 16 | Klaksvík\n",
      "Processing City # 17 | Mengcheng\n",
      "Processing City # 18 | Bredasdorp\n",
      "Processing City # 19 | Peniche\n",
      "Processing City # 20 | Hobart\n",
      "Processing City # 21 | George Town\n",
      "Processing City # 22 | Chumikan\n",
      "Processing City # 23 | Tilichiki\n",
      "Processing City # 24 | Rikitea\n",
      "Processing City # 25 | Beloha\n",
      "Processing City # 26 | Avila\n",
      "Processing City # 27 | Dudinka\n",
      "Processing City # 28 | Lebu\n",
      "Processing City # 29 | Atuona\n",
      "Processing City # 30 | Ushuaia\n",
      "Processing City # 31 | Kapaa\n",
      "Processing City # 32 | Zhireken\n",
      "City not found. Skipping..\n",
      "Processing City # 33 | Montepuez\n",
      "Processing City # 34 | Chokurdakh\n",
      "Processing City # 35 | Victor Harbor\n",
      "Processing City # 36 | Amahai\n",
      "Processing City # 37 | Saint-Philippe\n",
      "City not found. Skipping..\n",
      "City not found. Skipping..\n",
      "Processing City # 38 | Upernavik\n",
      "Processing City # 39 | Hilo\n",
      "Processing City # 40 | Tura\n",
      "Processing City # 41 | Mataura\n",
      "Processing City # 42 | Jackson\n",
      "Processing City # 43 | Altinópolis\n",
      "Processing City # 44 | Coahuayana Viejo\n",
      "Processing City # 45 | Cape Town\n",
      "Processing City # 46 | Port Lincoln\n",
      "Processing City # 47 | Vanavara\n",
      "Processing City # 48 | Kailua\n",
      "Processing City # 49 | Alice Springs\n",
      "Processing City # 50 | Coyhaique\n",
      "Processing City # 51 | Dhidhdhoo\n",
      "Processing City # 52 | Bengkulu\n",
      "Processing City # 53 | Litovko\n",
      "Processing City # 54 | Hervey Bay\n",
      "Processing City # 55 | Tiksi\n",
      "Processing City # 56 | Cam Ranh\n",
      "City not found. Skipping..\n",
      "Processing City # 57 | Kaitangata\n",
      "Processing City # 58 | Husavik\n",
      "Processing City # 59 | Ancud\n",
      "City not found. Skipping..\n",
      "Processing City # 60 | Butaritari\n",
      "Processing City # 61 | Padang\n",
      "Processing City # 62 | Kautokeino\n",
      "Processing City # 63 | Bluff\n",
      "Processing City # 64 | Forsytheganj\n",
      "Processing City # 65 | Narsaq\n",
      "Processing City # 66 | Dana Point\n",
      "Processing City # 67 | Riacho de Santana\n",
      "Processing City # 68 | Cherskiy\n",
      "Processing City # 69 | Santa Lucía\n",
      "Processing City # 70 | Port Hardy\n",
      "Processing City # 71 | Iqaluit\n",
      "Processing City # 72 | Matara\n",
      "Processing City # 73 | Fuyang\n",
      "Processing City # 74 | Torbay\n",
      "Processing City # 75 | Zhigansk\n",
      "Processing City # 76 | Tongchuanshi\n",
      "City not found. Skipping..\n",
      "Processing City # 77 | Kérouané\n",
      "Processing City # 78 | Nelson Bay\n",
      "Processing City # 79 | Lavrentiya\n",
      "Processing City # 80 | Barrow\n",
      "Processing City # 81 | Tete\n",
      "Processing City # 82 | Vardø\n",
      "Processing City # 83 | Albany\n",
      "Processing City # 84 | Saldanha\n",
      "Processing City # 85 | Norman Wells\n",
      "Processing City # 86 | Villalba\n",
      "Processing City # 87 | Port Blair\n",
      "Processing City # 88 | Clyde River\n",
      "Processing City # 89 | Egvekinot\n",
      "Processing City # 90 | Solok\n",
      "Processing City # 91 | Cap-aux-Meules\n",
      "Processing City # 92 | Waterloo\n",
      "Processing City # 93 | Ilulissat\n",
      "Processing City # 94 | Gonder\n",
      "City not found. Skipping..\n",
      "Processing City # 95 | Provideniya\n",
      "Processing City # 96 | Verkhoyansk\n",
      "Processing City # 97 | Ormara\n",
      "Processing City # 98 | Thompson\n",
      "Processing City # 99 | Muroto-misakicho\n",
      "Processing City # 100 | Yaan\n",
      "Processing City # 101 | Mata\n",
      "Processing City # 102 | Salalah\n",
      "Processing City # 103 | Celestún\n",
      "Processing City # 104 | Arman'\n",
      "Processing City # 105 | Santa Cruz de la Sierra\n",
      "Processing City # 106 | Mar del Plata\n",
      "Processing City # 107 | Carnarvon\n",
      "City not found. Skipping..\n",
      "Processing City # 108 | Pevek\n",
      "Processing City # 109 | Kloulklubed\n",
      "Processing City # 110 | San Bartolomé de Tirajana\n",
      "Processing City # 111 | Puerto Ayora\n",
      "Processing City # 112 | Port Moresby\n",
      "Processing City # 113 | Neuquén\n",
      "Processing City # 114 | Tungor\n",
      "Processing City # 115 | Kangaatsiaq\n",
      "Processing City # 116 | Mezen'\n",
      "Processing City # 117 | Abhaynagar\n",
      "City not found. Skipping..\n",
      "Processing City # 118 | Ribeira Grande\n",
      "Processing City # 119 | San Patricio\n",
      "Processing City # 120 | Riohacha\n",
      "Processing City # 121 | Lüderitz\n",
      "Processing City # 122 | Parambu\n",
      "Processing City # 123 | Bubaque\n",
      "Processing City # 124 | Labuhan\n",
      "Processing City # 125 | Ziro\n",
      "City not found. Skipping..\n",
      "Processing City # 126 | Hasaki\n",
      "Processing City # 127 | Adrar\n",
      "City not found. Skipping..\n",
      "Processing City # 128 | Longyearbyen\n",
      "Processing City # 129 | Hermanus\n",
      "Processing City # 130 | Tasiilaq\n",
      "Processing City # 131 | Yārāda\n",
      "Processing City # 132 | Adré\n",
      "Processing City # 133 | Qaanaaq\n",
      "Processing City # 134 | San Juan\n",
      "Processing City # 135 | Aksu\n",
      "Processing City # 136 | Esperance\n",
      "Processing City # 137 | Nantucket\n",
      "Processing City # 138 | Bethel\n",
      "City not found. Skipping..\n",
      "Processing City # 139 | Saskylakh\n",
      "Processing City # 140 | Xinqing\n",
      "Processing City # 141 | Acaraú\n",
      "Processing City # 142 | Abhā\n",
      "Processing City # 143 | Alofi\n",
      "Processing City # 144 | Ust'-Omchug\n",
      "Processing City # 145 | East London\n",
      "Processing City # 146 | Metro\n",
      "Processing City # 147 | Rach Gia\n",
      "Processing City # 148 | Marovoay\n",
      "Processing City # 149 | Bathsheba\n",
      "Processing City # 150 | Kavieng\n",
      "Processing City # 151 | Bara\n",
      "Processing City # 152 | Makkah al Mukarramah\n",
      "Processing City # 153 | Puerto Madryn\n",
      "Processing City # 154 | Toamasina\n",
      "Processing City # 155 | Grand Gaube\n",
      "Processing City # 156 | Deputatsky\n",
      "Processing City # 157 | North Myrtle Beach\n",
      "Processing City # 158 | Mazabuka\n",
      "Processing City # 159 | Bushehr\n",
      "Processing City # 160 | Hithadhoo\n",
      "Processing City # 161 | Nikolskoye\n",
      "Processing City # 162 | Coquimbo\n",
      "Processing City # 163 | Khatanga\n",
      "Processing City # 164 | Vaasa\n",
      "Processing City # 165 | Anloga\n",
      "Processing City # 166 | Broome\n",
      "Processing City # 167 | Shīeli\n",
      "Processing City # 168 | Jamestown\n",
      "Processing City # 169 | Itarema\n",
      "Processing City # 170 | Lufkin\n",
      "Processing City # 171 | Fortuna\n",
      "Processing City # 172 | Arraial do Cabo\n",
      "Processing City # 173 | Ambikāpur\n",
      "Processing City # 174 | Talnakh\n",
      "Processing City # 175 | Mount Gambier\n",
      "Processing City # 176 | Mayo\n",
      "Processing City # 177 | Pringsewu\n",
      "Processing City # 178 | Poum\n",
      "City not found. Skipping..\n",
      "Processing City # 179 | Yenagoa\n",
      "Processing City # 180 | Beringovskiy\n",
      "Processing City # 181 | Yellowknife\n",
      "Processing City # 182 | Souillac\n",
      "Processing City # 183 | Luena\n",
      "Processing City # 184 | Koungou\n",
      "Processing City # 185 | Fairbanks\n",
      "Processing City # 186 | Nanortalik\n",
      "Processing City # 187 | Itoman\n",
      "Processing City # 188 | Severo-Kuril'sk\n",
      "Processing City # 189 | Lagoa\n",
      "Processing City # 190 | Alto Longá\n",
      "Processing City # 191 | Nome\n",
      "Processing City # 192 | Chernyshevskiy\n",
      "Processing City # 193 | Leh\n",
      "Processing City # 194 | Cauquenes\n",
      "Processing City # 195 | Mozarlândia\n",
      "Processing City # 196 | Ucluelet\n",
      "Processing City # 197 | Prince Rupert\n",
      "Processing City # 198 | Opelika\n",
      "City not found. Skipping..\n",
      "Processing City # 199 | Port Alfred\n",
      "Processing City # 200 | Kirakira\n",
      "Processing City # 201 | Severnyy-Kospashskiy\n",
      "Processing City # 202 | Sīwah\n",
      "Processing City # 203 | High Rock\n",
      "Processing City # 204 | Cururupu\n",
      "Processing City # 205 | Vestmannaeyjar\n",
      "Processing City # 206 | Wad Rāwah\n",
      "Processing City # 207 | Acapulco de Juárez\n",
      "Processing City # 208 | Aykhal\n",
      "Processing City # 209 | Qaqortoq\n",
      "Processing City # 210 | Casablanca\n",
      "City not found. Skipping..\n",
      "Processing City # 211 | Pangnirtung\n",
      "Processing City # 212 | Kristinestad\n",
      "Processing City # 213 | Katsuura\n",
      "City not found. Skipping..\n",
      "Processing City # 214 | Castro\n",
      "Processing City # 215 | La Pila\n",
      "Processing City # 216 | Bratsk\n",
      "Processing City # 217 | Byron Bay\n",
      "Processing City # 218 | Betong\n",
      "Processing City # 219 | Kieta\n",
      "Processing City # 220 | Penzance\n",
      "Processing City # 221 | Moses Lake\n",
      "Processing City # 222 | Tyumentsevo\n",
      "Processing City # 223 | Madingou\n",
      "Processing City # 224 | Mpika\n",
      "Processing City # 225 | Darhan\n",
      "Processing City # 226 | Beba\n",
      "Processing City # 227 | Whitehorse\n",
      "Processing City # 228 | Herne Bay\n",
      "Processing City # 229 | Kumul\n",
      "Processing City # 230 | Khonsa\n",
      "Processing City # 231 | Port Hedland\n"
     ]
    },
    {
     "name": "stdout",
     "output_type": "stream",
     "text": [
      "Processing City # 232 | Burgersdorp\n",
      "Processing City # 233 | Lima\n",
      "Processing City # 234 | Gambiran\n",
      "Processing City # 235 | Kilindoni\n",
      "Processing City # 236 | Karratha\n",
      "Processing City # 237 | Belmonte\n",
      "Processing City # 238 | Tuy Hoa\n",
      "City not found. Skipping..\n",
      "Processing City # 239 | Tabou\n",
      "Processing City # 240 | Pauini\n",
      "Processing City # 241 | Muros\n",
      "Processing City # 242 | Portland\n",
      "Processing City # 243 | Faanui\n",
      "Processing City # 244 | Barcelona\n",
      "Processing City # 245 | Pokhara\n",
      "Processing City # 246 | São Filipe\n",
      "City not found. Skipping..\n",
      "City not found. Skipping..\n",
      "Processing City # 247 | Xai-Xai\n",
      "Processing City # 248 | Lorengau\n",
      "Processing City # 249 | Havelock\n",
      "Processing City # 250 | Vanimo\n",
      "Processing City # 251 | Okha\n",
      "Processing City # 252 | Opuwo\n",
      "Processing City # 253 | Guerrero Negro\n",
      "Processing City # 254 | Arlit\n",
      "City not found. Skipping..\n",
      "Processing City # 255 | Bambous Virieux\n",
      "Processing City # 256 | Vitim\n",
      "Processing City # 257 | Comodoro Rivadavia\n",
      "Processing City # 258 | Latung\n",
      "Processing City # 259 | Hua Hin\n",
      "Processing City # 260 | Airai\n",
      "City not found. Skipping..\n",
      "City not found. Skipping..\n",
      "Processing City # 261 | Moerai\n",
      "Processing City # 262 | Shenzhen\n",
      "Processing City # 263 | Ukiah\n",
      "City not found. Skipping..\n",
      "City not found. Skipping..\n",
      "Processing City # 264 | Abnūb\n",
      "Processing City # 265 | Hong Kong\n",
      "Processing City # 266 | Wamba\n",
      "Processing City # 267 | Terney\n",
      "Processing City # 268 | Jablah\n",
      "Processing City # 269 | Gunjur\n",
      "Processing City # 270 | Moussoro\n",
      "Processing City # 271 | Broken Hill\n",
      "City not found. Skipping..\n",
      "Processing City # 272 | Ürümqi\n",
      "Processing City # 273 | Tigil'\n",
      "Processing City # 274 | Codrington\n",
      "Processing City # 275 | Flinders\n",
      "Processing City # 276 | College\n",
      "Processing City # 277 | Zhangye\n",
      "Processing City # 278 | Kahului\n",
      "Processing City # 279 | Ahipara\n",
      "Processing City # 280 | Yola\n",
      "Processing City # 281 | City of San Pedro\n",
      "Processing City # 282 | Kiruna\n",
      "Processing City # 283 | Marsh Harbour\n",
      "Processing City # 284 | Saurimo\n",
      "Processing City # 285 | Yumen\n",
      "Processing City # 286 | Emerald\n",
      "Processing City # 287 | Tsimmerbude\n",
      "Processing City # 288 | Cockburn Town\n",
      "Processing City # 289 | Nogliki\n",
      "Processing City # 290 | Atoka\n",
      "Processing City # 291 | Takoradze\n",
      "Processing City # 292 | Kokoda\n",
      "Processing City # 293 | Young\n",
      "City not found. Skipping..\n",
      "Processing City # 294 | Rocha\n",
      "City not found. Skipping..\n",
      "Processing City # 295 | Bandarbeyla\n",
      "Processing City # 296 | Half Moon Bay\n",
      "Processing City # 297 | Karlstad\n",
      "Processing City # 298 | Paamiut\n",
      "Processing City # 299 | Tual\n",
      "Processing City # 300 | Avarua\n",
      "Processing City # 301 | Cabedelo\n",
      "Processing City # 302 | Imphal\n",
      "Processing City # 303 | Menongue\n",
      "Processing City # 304 | Ostrovnoy\n",
      "Processing City # 305 | Gafanha da Encarnação\n",
      "Processing City # 306 | San Quintín\n",
      "Processing City # 307 | San Miguel\n",
      "Processing City # 308 | Pisco\n",
      "Processing City # 309 | Gloucester\n",
      "City not found. Skipping..\n",
      "City not found. Skipping..\n",
      "City not found. Skipping..\n",
      "Processing City # 310 | Olafsvik\n",
      "Processing City # 311 | Leningradskiy\n",
      "Processing City # 312 | Gazli\n",
      "Processing City # 313 | Koster\n",
      "City not found. Skipping..\n",
      "Processing City # 314 | Kaukauna\n",
      "Processing City # 315 | Inírida\n",
      "Processing City # 316 | Rockport\n",
      "Processing City # 317 | Araouane\n",
      "Processing City # 318 | Galveston\n",
      "Processing City # 319 | Carndonagh\n",
      "Processing City # 320 | Mil'kovo\n",
      "Processing City # 321 | Constitución\n",
      "Processing City # 322 | Dikson\n",
      "Processing City # 323 | Burnie\n",
      "Processing City # 324 | ‘Ewa Beach\n",
      "Processing City # 325 | Ishigaki\n",
      "Processing City # 326 | Avera\n",
      "Processing City # 327 | Bima\n",
      "Processing City # 328 | Mtwara\n",
      "Processing City # 329 | Powell\n",
      "Processing City # 330 | Marsá Maţrūḩ\n",
      "Processing City # 331 | Lompoc\n",
      "Processing City # 332 | Rawson\n",
      "Processing City # 333 | Morón\n",
      "Processing City # 334 | Viedma\n",
      "Processing City # 335 | Geraldton\n",
      "Processing City # 336 | Sanguéya\n",
      "City not found. Skipping..\n",
      "Processing City # 337 | São João da Barra\n",
      "Processing City # 338 | Loa Janan\n",
      "Processing City # 339 | Kostanay\n",
      "Processing City # 340 | Margate\n",
      "Processing City # 341 | Waipawa\n",
      "Processing City # 342 | Eucaliptus\n",
      "Processing City # 343 | Kiryat Gat\n",
      "Processing City # 344 | Stokmarknes\n",
      "Processing City # 345 | Khandyga\n",
      "Processing City # 346 | Aleksandrov Gay\n",
      "Processing City # 347 | Nchelenge\n",
      "City not found. Skipping..\n",
      "Processing City # 348 | Verkhniy Fiagdon\n",
      "Processing City # 349 | Ligaya\n",
      "City not found. Skipping..\n",
      "Processing City # 350 | Aklavik\n",
      "Processing City # 351 | Kempele\n",
      "Processing City # 352 | Green River\n",
      "Processing City # 353 | San Francisco\n",
      "Processing City # 354 | Grand-Santi\n",
      "Processing City # 355 | Maputo\n",
      "Processing City # 356 | Kenai\n",
      "Processing City # 357 | Savannakhet\n",
      "Processing City # 358 | Praia\n",
      "Processing City # 359 | Caniço\n",
      "Processing City # 360 | Tuatapere\n",
      "Processing City # 361 | São Geraldo do Araguaia\n",
      "Processing City # 362 | Mahébourg\n",
      "Processing City # 363 | Praia da Vitória\n",
      "Processing City # 364 | Nakambala\n",
      "Processing City # 365 | Río Gallegos\n",
      "Processing City # 366 | Edgewater\n",
      "Processing City # 367 | Ixtapa\n",
      "Processing City # 368 | Necochea\n",
      "Processing City # 369 | Dawei\n",
      "City not found. Skipping..\n",
      "Processing City # 370 | Sola\n",
      "Processing City # 371 | Vila Franca do Campo\n",
      "Processing City # 372 | Kumylzhenskaya\n",
      "Processing City # 373 | Senanga\n",
      "Processing City # 374 | Ballina\n",
      "Processing City # 375 | Oodweyne\n",
      "Processing City # 376 | Kruisfontein\n",
      "Processing City # 377 | Kutum\n",
      "Processing City # 378 | Saint George\n",
      "Processing City # 379 | Dicabisagan\n",
      "Processing City # 380 | Bilibino\n",
      "Processing City # 381 | Mikuni\n",
      "Processing City # 382 | Hamilton\n",
      "Processing City # 383 | Maun\n",
      "Processing City # 384 | Contai\n",
      "Processing City # 385 | Krasnosel'kup\n",
      "Processing City # 386 | Ténenkou\n",
      "City not found. Skipping..\n",
      "Processing City # 387 | Saint-Pierre\n",
      "Processing City # 388 | Altayskoye\n",
      "Processing City # 389 | Copiapó\n",
      "Processing City # 390 | Batemans Bay\n",
      "Processing City # 391 | Ust-Tsilma\n",
      "Processing City # 392 | Barra de Tecoanapa\n",
      "Processing City # 393 | Ludwigslust\n",
      "Processing City # 394 | Iquique\n",
      "Processing City # 395 | Bangassou\n",
      "Processing City # 396 | Srednekolymsk\n",
      "Processing City # 397 | Saint Anthony\n",
      "Processing City # 398 | Karatau\n",
      "Processing City # 399 | Palmas\n",
      "Processing City # 400 | Algiers\n",
      "Processing City # 401 | Atikokan\n",
      "Processing City # 402 | Tal'menka\n",
      "Processing City # 403 | Tautira\n",
      "Processing City # 404 | Makakilo City\n",
      "Processing City # 405 | Touros\n",
      "Processing City # 406 | Anadyr\n",
      "Processing City # 407 | Carutapera\n",
      "Processing City # 408 | Assiut\n",
      "Processing City # 409 | Omboué\n",
      "Processing City # 410 | Mbandaka\n",
      "Processing City # 411 | La Ronge\n",
      "Processing City # 412 | Villanueva\n",
      "Processing City # 413 | Hermagor\n",
      "Processing City # 414 | Buraidah\n",
      "Processing City # 415 | Manggar\n",
      "Processing City # 416 | Okhotsk\n",
      "City not found. Skipping..\n",
      "Processing City # 417 | Yulara\n",
      "Processing City # 418 | Srīvardhan\n",
      "Processing City # 419 | Moyobamba\n",
      "Processing City # 420 | Nhulunbuy\n",
      "Processing City # 421 | Nacala\n",
      "Processing City # 422 | Qingdao\n",
      "Processing City # 423 | Raja\n",
      "City not found. Skipping..\n",
      "City not found. Skipping..\n",
      "Processing City # 424 | Gaza\n",
      "Processing City # 425 | Tallahassee\n",
      "Processing City # 426 | Tagusao\n",
      "Processing City # 427 | Otane\n",
      "Processing City # 428 | Cayenne\n",
      "Processing City # 429 | Dingle\n",
      "Processing City # 430 | Pangkalanbuun\n",
      "Processing City # 431 | Korla\n",
      "Processing City # 432 | Valparaíso\n",
      "Processing City # 433 | Urbino\n",
      "Processing City # 434 | Rio Grande\n",
      "Processing City # 435 | Haines Junction\n",
      "Processing City # 436 | Ituberá\n",
      "Processing City # 437 | Lere\n",
      "Processing City # 438 | Susanville\n",
      "Processing City # 439 | Slave Lake\n",
      "Processing City # 440 | Powell River\n",
      "Processing City # 441 | Sivaki\n",
      "Processing City # 442 | Spasskoye\n",
      "Processing City # 443 | Lobito\n",
      "Processing City # 444 | Türkan\n",
      "Processing City # 445 | Santa Rosa\n",
      "Processing City # 446 | Sharan\n",
      "Processing City # 447 | Atar\n",
      "Processing City # 448 | Mahenge\n",
      "Processing City # 449 | Khomeyn\n",
      "Processing City # 450 | Aljezur\n",
      "Processing City # 451 | Sumenep\n",
      "Processing City # 452 | Alcañiz\n",
      "Processing City # 453 | Karwar\n",
      "Processing City # 454 | Caborca\n",
      "Processing City # 455 | Buala\n",
      "Processing City # 456 | Panlaitan\n",
      "Processing City # 457 | Luwuk\n",
      "Processing City # 458 | Mount Isa\n"
     ]
    },
    {
     "name": "stdout",
     "output_type": "stream",
     "text": [
      "Processing City # 459 | Ponta Delgada\n",
      "Processing City # 460 | Pozoblanco\n",
      "Processing City # 461 | Virden\n",
      "Processing City # 462 | Mitsamiouli\n",
      "Processing City # 463 | Río Cuarto\n",
      "Processing City # 464 | Reshetylivka\n",
      "Processing City # 465 | Zyryanka\n",
      "Processing City # 466 | Bilyayivka\n",
      "Processing City # 467 | Moura\n",
      "Processing City # 468 | Fare\n",
      "Processing City # 469 | Ørnes\n",
      "Processing City # 470 | Douglas\n",
      "Processing City # 471 | Dakar\n",
      "Processing City # 472 | Kodarmā\n",
      "Processing City # 473 | Hofn\n",
      "Processing City # 474 | Dzhebariki-Khaya\n",
      "Processing City # 475 | Madang\n",
      "Processing City # 476 | Silvassa\n",
      "Processing City # 477 | Xam Nua\n",
      "Processing City # 478 | Hirado\n",
      "Processing City # 479 | Hammerfest\n",
      "Processing City # 480 | Bud\n",
      "Processing City # 481 | Brigantine\n",
      "Processing City # 482 | Caravelas\n",
      "City not found. Skipping..\n",
      "Processing City # 483 | Dingli\n",
      "Processing City # 484 | San Cristobal\n",
      "Processing City # 485 | Laguna\n",
      "Processing City # 486 | Namatanai\n",
      "Processing City # 487 | Tazmalt\n",
      "Processing City # 488 | Sinnamary\n",
      "Processing City # 489 | Custoias\n",
      "Processing City # 490 | Chui\n",
      "Processing City # 491 | Amga\n",
      "Processing City # 492 | Lafiagi\n",
      "Processing City # 493 | Bontang\n",
      "Processing City # 494 | Flin Flon\n",
      "Processing City # 495 | Naviraí\n",
      "Processing City # 496 | Naze\n",
      "Processing City # 497 | Mvuma\n",
      "Processing City # 498 | Igarka\n",
      "Processing City # 499 | Emba\n",
      "Processing City # 500 | Ekhabi\n",
      "Processing City # 501 | Jalu\n",
      "Processing City # 502 | Cachoeiras de Macacu\n",
      "Processing City # 503 | Tcholliré\n",
      "Processing City # 504 | Lethem\n",
      "Processing City # 505 | Mama\n",
      "Processing City # 506 | La Asuncion\n",
      "Processing City # 507 | Ulladulla\n",
      "Processing City # 508 | Rørvik\n",
      "Processing City # 509 | Erzin\n",
      "Processing City # 510 | Mwinilunga\n",
      "Processing City # 511 | Acajutla\n",
      "Processing City # 512 | Nongstoin\n",
      "Processing City # 513 | Vigrestad\n",
      "Processing City # 514 | Dutlwe\n",
      "Processing City # 515 | San Isidro\n",
      "Processing City # 516 | Chapais\n",
      "City not found. Skipping..\n",
      "Processing City # 517 | Staryy Nadym\n",
      "Processing City # 518 | Melioratorov\n",
      "Processing City # 519 | Pacific Grove\n",
      "Processing City # 520 | Dawlatabad\n",
      "Processing City # 521 | Chirongui\n",
      "Processing City # 522 | Sorong\n",
      "Processing City # 523 | Vila Velha\n",
      "Processing City # 524 | Maţāy\n",
      "City not found. Skipping..\n",
      "Processing City # 525 | Porto-Novo\n",
      "City not found. Skipping..\n",
      "Processing City # 526 | Akhnūr\n",
      "Processing City # 527 | Atlantic City\n",
      "Processing City # 528 | Vallenar\n",
      "Processing City # 529 | Belyy\n",
      "Processing City # 530 | Olinda\n",
      "Processing City # 531 | Marawi\n",
      "Processing City # 532 | Borovoy\n",
      "City not found. Skipping..\n",
      "Processing City # 533 | Sherbakul'\n",
      "Processing City # 534 | Miramar\n",
      "City not found. Skipping..\n",
      "City not found. Skipping..\n",
      "Processing City # 535 | Nehe\n",
      "Processing City # 536 | Germersheim\n",
      "Processing City # 537 | Qasigiannguit\n",
      "Processing City # 538 | Mpulungu\n",
      "Processing City # 539 | Temirtau\n",
      "Processing City # 540 | Hobyo\n",
      "Processing City # 541 | Kandrian\n",
      "City not found. Skipping..\n",
      "Processing City # 542 | Tiznit Province\n",
      "Processing City # 543 | Khovd\n",
      "Processing City # 544 | Dickinson\n",
      "Processing City # 545 | Antofagasta\n",
      "Processing City # 546 | Heusden\n",
      "Processing City # 547 | Gladstone\n",
      "Processing City # 548 | Samarai\n",
      "Processing City # 549 | Sept-Îles\n",
      "Processing City # 550 | Waterfoot\n",
      "Processing City # 551 | Faya\n",
      "City not found. Skipping..\n",
      "Processing City # 552 | Cap Malheureux\n",
      "Processing City # 553 | Kouroussa\n",
      "Processing City # 554 | Shingū\n",
      "Processing City # 555 | Nara\n",
      "Processing City # 556 | Salinas\n",
      "Processing City # 557 | Fethiye\n",
      "Processing City # 558 | Ilebo\n",
      "Processing City # 559 | Awjilah\n",
      "Processing City # 560 | San Lucas\n",
      "Processing City # 561 | Shaunavon\n",
      "Processing City # 562 | Khani\n",
      "Processing City # 563 | Grajaú\n",
      "City not found. Skipping..\n",
      "Processing City # 564 | Guasdualito\n",
      "Processing City # 565 | Qarqīn\n",
      "Processing City # 566 | Naliya\n",
      "----------\n",
      "Data Retrieval Complete\n",
      "----------\n"
     ]
    }
   ],
   "source": [
    "city_name = []\n",
    "country = []\n",
    "date = []\n",
    "lat = []\n",
    "lon = []\n",
    "max_temp = []\n",
    "humidity = []\n",
    "cloudiness = []\n",
    "wind_speed = []\n",
    "\n",
    "processing_value = 1\n",
    "\n",
    "print(f\"Beginning Data Retrieval\")\n",
    "print(\"----------\")\n",
    "\n",
    "for city in cities:\n",
    "    try:\n",
    "        response = requests.get(query_url + city).json()\n",
    "        city_name.append(response[\"name\"])\n",
    "        country.append(response[\"sys\"][\"country\"])\n",
    "        date.append(response[\"dt\"])\n",
    "        lat.append(response[\"coord\"][\"lat\"])\n",
    "        lon.append(response[\"coord\"][\"lon\"])\n",
    "        max_temp.append(response[\"main\"][\"temp_max\"])\n",
    "        humidity.append(response[\"main\"][\"humidity\"])\n",
    "        cloudiness.append(response[\"clouds\"][\"all\"])\n",
    "        wind_speed.append(response[\"wind\"][\"speed\"])\n",
    "        city_record = response[\"name\"]\n",
    "        print(f\"Processing City # {processing_value} | {city_record}\")\n",
    "        processing_value += 1\n",
    "    \n",
    "    except:\n",
    "        print(\"City not found. Skipping..\")\n",
    "    continue\n",
    "\n",
    "print(f\"----------\")\n",
    "print(f\"Data Retrieval Complete\")\n",
    "print(f\"----------\")"
   ]
  },
  {
   "cell_type": "markdown",
   "metadata": {},
   "source": [
    "### Convert Raw Data to DataFrame\n",
    "* Export the city data into a .csv.\n",
    "* Display the DataFrame"
   ]
  },
  {
   "cell_type": "code",
   "execution_count": 8,
   "metadata": {},
   "outputs": [
    {
     "data": {
      "text/plain": [
       "City               566\n",
       "Country            566\n",
       "Date               566\n",
       "Latitude           566\n",
       "Longitude          566\n",
       "Max Temperature    566\n",
       "Humidity           566\n",
       "Cloudiness         566\n",
       "Wind Speed         566\n",
       "dtype: int64"
      ]
     },
     "execution_count": 8,
     "metadata": {},
     "output_type": "execute_result"
    }
   ],
   "source": [
    "weather_dict = {\n",
    "    \"City\": city_name,\n",
    "    \"Country\": country,\n",
    "    \"Date\": date,\n",
    "    \"Latitude\": lat,\n",
    "    \"Longitude\": lon,\n",
    "    \"Max Temperature\": max_temp,\n",
    "    \"Humidity\": humidity,\n",
    "    \"Cloudiness\": cloudiness,\n",
    "    \"Wind Speed\": wind_speed\n",
    "}\n",
    "\n",
    "weather_df = pd.DataFrame(weather_dict)\n",
    "weather_df.count()"
   ]
  },
  {
   "cell_type": "code",
   "execution_count": 9,
   "metadata": {},
   "outputs": [
    {
     "data": {
      "text/html": [
       "<div>\n",
       "<style scoped>\n",
       "    .dataframe tbody tr th:only-of-type {\n",
       "        vertical-align: middle;\n",
       "    }\n",
       "\n",
       "    .dataframe tbody tr th {\n",
       "        vertical-align: top;\n",
       "    }\n",
       "\n",
       "    .dataframe thead th {\n",
       "        text-align: right;\n",
       "    }\n",
       "</style>\n",
       "<table border=\"1\" class=\"dataframe\">\n",
       "  <thead>\n",
       "    <tr style=\"text-align: right;\">\n",
       "      <th></th>\n",
       "      <th>City</th>\n",
       "      <th>Country</th>\n",
       "      <th>Date</th>\n",
       "      <th>Latitude</th>\n",
       "      <th>Longitude</th>\n",
       "      <th>Max Temperature</th>\n",
       "      <th>Humidity</th>\n",
       "      <th>Cloudiness</th>\n",
       "      <th>Wind Speed</th>\n",
       "    </tr>\n",
       "  </thead>\n",
       "  <tbody>\n",
       "    <tr>\n",
       "      <th>0</th>\n",
       "      <td>New Norfolk</td>\n",
       "      <td>AU</td>\n",
       "      <td>1616230928</td>\n",
       "      <td>-42.7826</td>\n",
       "      <td>147.0587</td>\n",
       "      <td>63.00</td>\n",
       "      <td>58</td>\n",
       "      <td>0</td>\n",
       "      <td>2.93</td>\n",
       "    </tr>\n",
       "    <tr>\n",
       "      <th>1</th>\n",
       "      <td>Busselton</td>\n",
       "      <td>AU</td>\n",
       "      <td>1616230928</td>\n",
       "      <td>-33.6500</td>\n",
       "      <td>115.3333</td>\n",
       "      <td>93.00</td>\n",
       "      <td>24</td>\n",
       "      <td>10</td>\n",
       "      <td>1.99</td>\n",
       "    </tr>\n",
       "    <tr>\n",
       "      <th>2</th>\n",
       "      <td>Noyabrsk</td>\n",
       "      <td>RU</td>\n",
       "      <td>1616230928</td>\n",
       "      <td>63.1994</td>\n",
       "      <td>75.4507</td>\n",
       "      <td>9.57</td>\n",
       "      <td>93</td>\n",
       "      <td>100</td>\n",
       "      <td>23.47</td>\n",
       "    </tr>\n",
       "    <tr>\n",
       "      <th>3</th>\n",
       "      <td>Port Elizabeth</td>\n",
       "      <td>ZA</td>\n",
       "      <td>1616230928</td>\n",
       "      <td>-33.9180</td>\n",
       "      <td>25.5701</td>\n",
       "      <td>68.00</td>\n",
       "      <td>94</td>\n",
       "      <td>90</td>\n",
       "      <td>3.44</td>\n",
       "    </tr>\n",
       "    <tr>\n",
       "      <th>4</th>\n",
       "      <td>Punta Arenas</td>\n",
       "      <td>CL</td>\n",
       "      <td>1616230928</td>\n",
       "      <td>-53.1500</td>\n",
       "      <td>-70.9167</td>\n",
       "      <td>39.20</td>\n",
       "      <td>81</td>\n",
       "      <td>0</td>\n",
       "      <td>13.80</td>\n",
       "    </tr>\n",
       "  </tbody>\n",
       "</table>\n",
       "</div>"
      ],
      "text/plain": [
       "             City Country        Date  Latitude  Longitude  Max Temperature  \\\n",
       "0     New Norfolk      AU  1616230928  -42.7826   147.0587            63.00   \n",
       "1       Busselton      AU  1616230928  -33.6500   115.3333            93.00   \n",
       "2        Noyabrsk      RU  1616230928   63.1994    75.4507             9.57   \n",
       "3  Port Elizabeth      ZA  1616230928  -33.9180    25.5701            68.00   \n",
       "4    Punta Arenas      CL  1616230928  -53.1500   -70.9167            39.20   \n",
       "\n",
       "   Humidity  Cloudiness  Wind Speed  \n",
       "0        58           0        2.93  \n",
       "1        24          10        1.99  \n",
       "2        93         100       23.47  \n",
       "3        94          90        3.44  \n",
       "4        81           0       13.80  "
      ]
     },
     "execution_count": 9,
     "metadata": {},
     "output_type": "execute_result"
    }
   ],
   "source": [
    "weather_df.head()"
   ]
  },
  {
   "cell_type": "code",
   "execution_count": 10,
   "metadata": {},
   "outputs": [],
   "source": [
    "weather_df.to_csv(\"weather_data.csv\", index=False)"
   ]
  },
  {
   "cell_type": "markdown",
   "metadata": {},
   "source": [
    "## Inspect the data and remove the cities where the humidity > 100%.\n",
    "----\n",
    "Skip this step if there are no cities that have humidity > 100%. "
   ]
  },
  {
   "cell_type": "code",
   "execution_count": 11,
   "metadata": {},
   "outputs": [
    {
     "data": {
      "text/html": [
       "<div>\n",
       "<style scoped>\n",
       "    .dataframe tbody tr th:only-of-type {\n",
       "        vertical-align: middle;\n",
       "    }\n",
       "\n",
       "    .dataframe tbody tr th {\n",
       "        vertical-align: top;\n",
       "    }\n",
       "\n",
       "    .dataframe thead th {\n",
       "        text-align: right;\n",
       "    }\n",
       "</style>\n",
       "<table border=\"1\" class=\"dataframe\">\n",
       "  <thead>\n",
       "    <tr style=\"text-align: right;\">\n",
       "      <th></th>\n",
       "      <th>Date</th>\n",
       "      <th>Latitude</th>\n",
       "      <th>Longitude</th>\n",
       "      <th>Max Temperature</th>\n",
       "      <th>Humidity</th>\n",
       "      <th>Cloudiness</th>\n",
       "      <th>Wind Speed</th>\n",
       "    </tr>\n",
       "  </thead>\n",
       "  <tbody>\n",
       "    <tr>\n",
       "      <th>count</th>\n",
       "      <td>5.660000e+02</td>\n",
       "      <td>566.000000</td>\n",
       "      <td>566.000000</td>\n",
       "      <td>566.000000</td>\n",
       "      <td>566.000000</td>\n",
       "      <td>566.000000</td>\n",
       "      <td>566.000000</td>\n",
       "    </tr>\n",
       "    <tr>\n",
       "      <th>mean</th>\n",
       "      <td>1.616231e+09</td>\n",
       "      <td>18.924714</td>\n",
       "      <td>18.218830</td>\n",
       "      <td>56.575459</td>\n",
       "      <td>70.777385</td>\n",
       "      <td>50.153710</td>\n",
       "      <td>8.582032</td>\n",
       "    </tr>\n",
       "    <tr>\n",
       "      <th>std</th>\n",
       "      <td>6.144929e+01</td>\n",
       "      <td>33.356426</td>\n",
       "      <td>91.766027</td>\n",
       "      <td>28.695798</td>\n",
       "      <td>21.653831</td>\n",
       "      <td>40.248424</td>\n",
       "      <td>5.617048</td>\n",
       "    </tr>\n",
       "    <tr>\n",
       "      <th>min</th>\n",
       "      <td>1.616231e+09</td>\n",
       "      <td>-54.800000</td>\n",
       "      <td>-179.166700</td>\n",
       "      <td>-28.280000</td>\n",
       "      <td>8.000000</td>\n",
       "      <td>0.000000</td>\n",
       "      <td>0.020000</td>\n",
       "    </tr>\n",
       "    <tr>\n",
       "      <th>25%</th>\n",
       "      <td>1.616231e+09</td>\n",
       "      <td>-8.914575</td>\n",
       "      <td>-63.124200</td>\n",
       "      <td>37.990000</td>\n",
       "      <td>60.000000</td>\n",
       "      <td>1.000000</td>\n",
       "      <td>4.557500</td>\n",
       "    </tr>\n",
       "    <tr>\n",
       "      <th>50%</th>\n",
       "      <td>1.616231e+09</td>\n",
       "      <td>21.619900</td>\n",
       "      <td>21.582000</td>\n",
       "      <td>63.000000</td>\n",
       "      <td>76.000000</td>\n",
       "      <td>46.000000</td>\n",
       "      <td>7.280000</td>\n",
       "    </tr>\n",
       "    <tr>\n",
       "      <th>75%</th>\n",
       "      <td>1.616231e+09</td>\n",
       "      <td>47.004375</td>\n",
       "      <td>101.478725</td>\n",
       "      <td>79.867500</td>\n",
       "      <td>87.000000</td>\n",
       "      <td>90.000000</td>\n",
       "      <td>11.500000</td>\n",
       "    </tr>\n",
       "    <tr>\n",
       "      <th>max</th>\n",
       "      <td>1.616231e+09</td>\n",
       "      <td>78.218600</td>\n",
       "      <td>179.316700</td>\n",
       "      <td>102.650000</td>\n",
       "      <td>100.000000</td>\n",
       "      <td>100.000000</td>\n",
       "      <td>35.140000</td>\n",
       "    </tr>\n",
       "  </tbody>\n",
       "</table>\n",
       "</div>"
      ],
      "text/plain": [
       "               Date    Latitude   Longitude  Max Temperature    Humidity  \\\n",
       "count  5.660000e+02  566.000000  566.000000       566.000000  566.000000   \n",
       "mean   1.616231e+09   18.924714   18.218830        56.575459   70.777385   \n",
       "std    6.144929e+01   33.356426   91.766027        28.695798   21.653831   \n",
       "min    1.616231e+09  -54.800000 -179.166700       -28.280000    8.000000   \n",
       "25%    1.616231e+09   -8.914575  -63.124200        37.990000   60.000000   \n",
       "50%    1.616231e+09   21.619900   21.582000        63.000000   76.000000   \n",
       "75%    1.616231e+09   47.004375  101.478725        79.867500   87.000000   \n",
       "max    1.616231e+09   78.218600  179.316700       102.650000  100.000000   \n",
       "\n",
       "       Cloudiness  Wind Speed  \n",
       "count  566.000000  566.000000  \n",
       "mean    50.153710    8.582032  \n",
       "std     40.248424    5.617048  \n",
       "min      0.000000    0.020000  \n",
       "25%      1.000000    4.557500  \n",
       "50%     46.000000    7.280000  \n",
       "75%     90.000000   11.500000  \n",
       "max    100.000000   35.140000  "
      ]
     },
     "execution_count": 11,
     "metadata": {},
     "output_type": "execute_result"
    }
   ],
   "source": [
    "weather_df.describe()"
   ]
  },
  {
   "cell_type": "code",
   "execution_count": 12,
   "metadata": {},
   "outputs": [
    {
     "data": {
      "text/plain": [
       "City                object\n",
       "Country             object\n",
       "Date                 int64\n",
       "Latitude           float64\n",
       "Longitude          float64\n",
       "Max Temperature    float64\n",
       "Humidity             int64\n",
       "Cloudiness           int64\n",
       "Wind Speed         float64\n",
       "dtype: object"
      ]
     },
     "execution_count": 12,
     "metadata": {},
     "output_type": "execute_result"
    }
   ],
   "source": [
    "weather_df.dtypes"
   ]
  },
  {
   "cell_type": "code",
   "execution_count": 13,
   "metadata": {},
   "outputs": [
    {
     "data": {
      "text/html": [
       "<div>\n",
       "<style scoped>\n",
       "    .dataframe tbody tr th:only-of-type {\n",
       "        vertical-align: middle;\n",
       "    }\n",
       "\n",
       "    .dataframe tbody tr th {\n",
       "        vertical-align: top;\n",
       "    }\n",
       "\n",
       "    .dataframe thead th {\n",
       "        text-align: right;\n",
       "    }\n",
       "</style>\n",
       "<table border=\"1\" class=\"dataframe\">\n",
       "  <thead>\n",
       "    <tr style=\"text-align: right;\">\n",
       "      <th></th>\n",
       "      <th>City</th>\n",
       "      <th>Country</th>\n",
       "      <th>Date</th>\n",
       "      <th>Latitude</th>\n",
       "      <th>Longitude</th>\n",
       "      <th>Max Temperature</th>\n",
       "      <th>Humidity</th>\n",
       "      <th>Cloudiness</th>\n",
       "      <th>Wind Speed</th>\n",
       "    </tr>\n",
       "  </thead>\n",
       "  <tbody>\n",
       "    <tr>\n",
       "      <th>15</th>\n",
       "      <td>Klaksvík</td>\n",
       "      <td>FO</td>\n",
       "      <td>1616230931</td>\n",
       "      <td>62.2266</td>\n",
       "      <td>-6.5890</td>\n",
       "      <td>42.8</td>\n",
       "      <td>100</td>\n",
       "      <td>75</td>\n",
       "      <td>14.97</td>\n",
       "    </tr>\n",
       "    <tr>\n",
       "      <th>77</th>\n",
       "      <td>Nelson Bay</td>\n",
       "      <td>AU</td>\n",
       "      <td>1616230946</td>\n",
       "      <td>-32.7167</td>\n",
       "      <td>152.1500</td>\n",
       "      <td>69.8</td>\n",
       "      <td>100</td>\n",
       "      <td>90</td>\n",
       "      <td>14.97</td>\n",
       "    </tr>\n",
       "    <tr>\n",
       "      <th>98</th>\n",
       "      <td>Muroto-misakicho</td>\n",
       "      <td>JP</td>\n",
       "      <td>1616230951</td>\n",
       "      <td>33.2833</td>\n",
       "      <td>134.1500</td>\n",
       "      <td>60.8</td>\n",
       "      <td>100</td>\n",
       "      <td>75</td>\n",
       "      <td>13.80</td>\n",
       "    </tr>\n",
       "    <tr>\n",
       "      <th>104</th>\n",
       "      <td>Santa Cruz de la Sierra</td>\n",
       "      <td>BO</td>\n",
       "      <td>1616230952</td>\n",
       "      <td>-17.8000</td>\n",
       "      <td>-63.1667</td>\n",
       "      <td>71.6</td>\n",
       "      <td>100</td>\n",
       "      <td>75</td>\n",
       "      <td>4.61</td>\n",
       "    </tr>\n",
       "    <tr>\n",
       "      <th>142</th>\n",
       "      <td>Alofi</td>\n",
       "      <td>NU</td>\n",
       "      <td>1616230961</td>\n",
       "      <td>-19.0595</td>\n",
       "      <td>-169.9187</td>\n",
       "      <td>75.2</td>\n",
       "      <td>100</td>\n",
       "      <td>100</td>\n",
       "      <td>10.36</td>\n",
       "    </tr>\n",
       "    <tr>\n",
       "      <th>170</th>\n",
       "      <td>Fortuna</td>\n",
       "      <td>US</td>\n",
       "      <td>1616230966</td>\n",
       "      <td>40.5982</td>\n",
       "      <td>-124.1573</td>\n",
       "      <td>43.0</td>\n",
       "      <td>100</td>\n",
       "      <td>75</td>\n",
       "      <td>6.91</td>\n",
       "    </tr>\n",
       "    <tr>\n",
       "      <th>300</th>\n",
       "      <td>Cabedelo</td>\n",
       "      <td>BR</td>\n",
       "      <td>1616230996</td>\n",
       "      <td>-6.9811</td>\n",
       "      <td>-34.8339</td>\n",
       "      <td>75.2</td>\n",
       "      <td>100</td>\n",
       "      <td>75</td>\n",
       "      <td>4.61</td>\n",
       "    </tr>\n",
       "    <tr>\n",
       "      <th>398</th>\n",
       "      <td>Palmas</td>\n",
       "      <td>BR</td>\n",
       "      <td>1616231019</td>\n",
       "      <td>-10.2128</td>\n",
       "      <td>-48.3603</td>\n",
       "      <td>71.6</td>\n",
       "      <td>100</td>\n",
       "      <td>75</td>\n",
       "      <td>5.75</td>\n",
       "    </tr>\n",
       "    <tr>\n",
       "      <th>427</th>\n",
       "      <td>Cayenne</td>\n",
       "      <td>GF</td>\n",
       "      <td>1616231025</td>\n",
       "      <td>4.9333</td>\n",
       "      <td>-52.3333</td>\n",
       "      <td>79.0</td>\n",
       "      <td>100</td>\n",
       "      <td>40</td>\n",
       "      <td>5.53</td>\n",
       "    </tr>\n",
       "    <tr>\n",
       "      <th>457</th>\n",
       "      <td>Mount Isa</td>\n",
       "      <td>AU</td>\n",
       "      <td>1616230804</td>\n",
       "      <td>-20.7333</td>\n",
       "      <td>139.5000</td>\n",
       "      <td>75.2</td>\n",
       "      <td>100</td>\n",
       "      <td>90</td>\n",
       "      <td>10.36</td>\n",
       "    </tr>\n",
       "    <tr>\n",
       "      <th>506</th>\n",
       "      <td>Ulladulla</td>\n",
       "      <td>AU</td>\n",
       "      <td>1616231041</td>\n",
       "      <td>-35.3500</td>\n",
       "      <td>150.4667</td>\n",
       "      <td>68.0</td>\n",
       "      <td>100</td>\n",
       "      <td>75</td>\n",
       "      <td>12.66</td>\n",
       "    </tr>\n",
       "    <tr>\n",
       "      <th>507</th>\n",
       "      <td>Rørvik</td>\n",
       "      <td>NO</td>\n",
       "      <td>1616231041</td>\n",
       "      <td>64.8621</td>\n",
       "      <td>11.2373</td>\n",
       "      <td>42.8</td>\n",
       "      <td>100</td>\n",
       "      <td>90</td>\n",
       "      <td>32.21</td>\n",
       "    </tr>\n",
       "  </tbody>\n",
       "</table>\n",
       "</div>"
      ],
      "text/plain": [
       "                        City Country        Date  Latitude  Longitude  \\\n",
       "15                  Klaksvík      FO  1616230931   62.2266    -6.5890   \n",
       "77                Nelson Bay      AU  1616230946  -32.7167   152.1500   \n",
       "98          Muroto-misakicho      JP  1616230951   33.2833   134.1500   \n",
       "104  Santa Cruz de la Sierra      BO  1616230952  -17.8000   -63.1667   \n",
       "142                    Alofi      NU  1616230961  -19.0595  -169.9187   \n",
       "170                  Fortuna      US  1616230966   40.5982  -124.1573   \n",
       "300                 Cabedelo      BR  1616230996   -6.9811   -34.8339   \n",
       "398                   Palmas      BR  1616231019  -10.2128   -48.3603   \n",
       "427                  Cayenne      GF  1616231025    4.9333   -52.3333   \n",
       "457                Mount Isa      AU  1616230804  -20.7333   139.5000   \n",
       "506                Ulladulla      AU  1616231041  -35.3500   150.4667   \n",
       "507                   Rørvik      NO  1616231041   64.8621    11.2373   \n",
       "\n",
       "     Max Temperature  Humidity  Cloudiness  Wind Speed  \n",
       "15              42.8       100          75       14.97  \n",
       "77              69.8       100          90       14.97  \n",
       "98              60.8       100          75       13.80  \n",
       "104             71.6       100          75        4.61  \n",
       "142             75.2       100         100       10.36  \n",
       "170             43.0       100          75        6.91  \n",
       "300             75.2       100          75        4.61  \n",
       "398             71.6       100          75        5.75  \n",
       "427             79.0       100          40        5.53  \n",
       "457             75.2       100          90       10.36  \n",
       "506             68.0       100          75       12.66  \n",
       "507             42.8       100          90       32.21  "
      ]
     },
     "execution_count": 13,
     "metadata": {},
     "output_type": "execute_result"
    }
   ],
   "source": [
    "max_humidity = weather_df.loc[weather_df[\"Humidity\"] == 100]\n",
    "max_humidity"
   ]
  },
  {
   "cell_type": "code",
   "execution_count": 14,
   "metadata": {},
   "outputs": [
    {
     "data": {
      "text/plain": [
       "Int64Index([15, 77, 98, 104, 142, 170, 300, 398, 427, 457, 506, 507], dtype='int64')"
      ]
     },
     "execution_count": 14,
     "metadata": {},
     "output_type": "execute_result"
    }
   ],
   "source": [
    "#  Get the indices of cities that have humidity over 100%.\n",
    "max_humidity.index"
   ]
  },
  {
   "cell_type": "code",
   "execution_count": 15,
   "metadata": {},
   "outputs": [
    {
     "data": {
      "text/html": [
       "<div>\n",
       "<style scoped>\n",
       "    .dataframe tbody tr th:only-of-type {\n",
       "        vertical-align: middle;\n",
       "    }\n",
       "\n",
       "    .dataframe tbody tr th {\n",
       "        vertical-align: top;\n",
       "    }\n",
       "\n",
       "    .dataframe thead th {\n",
       "        text-align: right;\n",
       "    }\n",
       "</style>\n",
       "<table border=\"1\" class=\"dataframe\">\n",
       "  <thead>\n",
       "    <tr style=\"text-align: right;\">\n",
       "      <th></th>\n",
       "      <th>City</th>\n",
       "      <th>Country</th>\n",
       "      <th>Date</th>\n",
       "      <th>Latitude</th>\n",
       "      <th>Longitude</th>\n",
       "      <th>Max Temperature</th>\n",
       "      <th>Humidity</th>\n",
       "      <th>Cloudiness</th>\n",
       "      <th>Wind Speed</th>\n",
       "    </tr>\n",
       "  </thead>\n",
       "  <tbody>\n",
       "    <tr>\n",
       "      <th>0</th>\n",
       "      <td>New Norfolk</td>\n",
       "      <td>AU</td>\n",
       "      <td>1616230928</td>\n",
       "      <td>-42.7826</td>\n",
       "      <td>147.0587</td>\n",
       "      <td>63.00</td>\n",
       "      <td>58</td>\n",
       "      <td>0</td>\n",
       "      <td>2.93</td>\n",
       "    </tr>\n",
       "    <tr>\n",
       "      <th>1</th>\n",
       "      <td>Busselton</td>\n",
       "      <td>AU</td>\n",
       "      <td>1616230928</td>\n",
       "      <td>-33.6500</td>\n",
       "      <td>115.3333</td>\n",
       "      <td>93.00</td>\n",
       "      <td>24</td>\n",
       "      <td>10</td>\n",
       "      <td>1.99</td>\n",
       "    </tr>\n",
       "    <tr>\n",
       "      <th>2</th>\n",
       "      <td>Noyabrsk</td>\n",
       "      <td>RU</td>\n",
       "      <td>1616230928</td>\n",
       "      <td>63.1994</td>\n",
       "      <td>75.4507</td>\n",
       "      <td>9.57</td>\n",
       "      <td>93</td>\n",
       "      <td>100</td>\n",
       "      <td>23.47</td>\n",
       "    </tr>\n",
       "    <tr>\n",
       "      <th>3</th>\n",
       "      <td>Port Elizabeth</td>\n",
       "      <td>ZA</td>\n",
       "      <td>1616230928</td>\n",
       "      <td>-33.9180</td>\n",
       "      <td>25.5701</td>\n",
       "      <td>68.00</td>\n",
       "      <td>94</td>\n",
       "      <td>90</td>\n",
       "      <td>3.44</td>\n",
       "    </tr>\n",
       "    <tr>\n",
       "      <th>4</th>\n",
       "      <td>Punta Arenas</td>\n",
       "      <td>CL</td>\n",
       "      <td>1616230928</td>\n",
       "      <td>-53.1500</td>\n",
       "      <td>-70.9167</td>\n",
       "      <td>39.20</td>\n",
       "      <td>81</td>\n",
       "      <td>0</td>\n",
       "      <td>13.80</td>\n",
       "    </tr>\n",
       "    <tr>\n",
       "      <th>...</th>\n",
       "      <td>...</td>\n",
       "      <td>...</td>\n",
       "      <td>...</td>\n",
       "      <td>...</td>\n",
       "      <td>...</td>\n",
       "      <td>...</td>\n",
       "      <td>...</td>\n",
       "      <td>...</td>\n",
       "      <td>...</td>\n",
       "    </tr>\n",
       "    <tr>\n",
       "      <th>561</th>\n",
       "      <td>Khani</td>\n",
       "      <td>GE</td>\n",
       "      <td>1616231055</td>\n",
       "      <td>41.9563</td>\n",
       "      <td>42.9566</td>\n",
       "      <td>50.00</td>\n",
       "      <td>66</td>\n",
       "      <td>90</td>\n",
       "      <td>12.66</td>\n",
       "    </tr>\n",
       "    <tr>\n",
       "      <th>562</th>\n",
       "      <td>Grajaú</td>\n",
       "      <td>BR</td>\n",
       "      <td>1616231055</td>\n",
       "      <td>-5.8194</td>\n",
       "      <td>-46.1386</td>\n",
       "      <td>70.00</td>\n",
       "      <td>99</td>\n",
       "      <td>94</td>\n",
       "      <td>3.36</td>\n",
       "    </tr>\n",
       "    <tr>\n",
       "      <th>563</th>\n",
       "      <td>Guasdualito</td>\n",
       "      <td>VE</td>\n",
       "      <td>1616231055</td>\n",
       "      <td>7.2424</td>\n",
       "      <td>-70.7324</td>\n",
       "      <td>75.36</td>\n",
       "      <td>70</td>\n",
       "      <td>100</td>\n",
       "      <td>2.35</td>\n",
       "    </tr>\n",
       "    <tr>\n",
       "      <th>564</th>\n",
       "      <td>Qarqīn</td>\n",
       "      <td>AF</td>\n",
       "      <td>1616231055</td>\n",
       "      <td>37.4185</td>\n",
       "      <td>66.0436</td>\n",
       "      <td>59.40</td>\n",
       "      <td>83</td>\n",
       "      <td>100</td>\n",
       "      <td>21.54</td>\n",
       "    </tr>\n",
       "    <tr>\n",
       "      <th>565</th>\n",
       "      <td>Naliya</td>\n",
       "      <td>IN</td>\n",
       "      <td>1616231056</td>\n",
       "      <td>23.2667</td>\n",
       "      <td>68.8333</td>\n",
       "      <td>97.74</td>\n",
       "      <td>17</td>\n",
       "      <td>0</td>\n",
       "      <td>12.44</td>\n",
       "    </tr>\n",
       "  </tbody>\n",
       "</table>\n",
       "<p>554 rows × 9 columns</p>\n",
       "</div>"
      ],
      "text/plain": [
       "               City Country        Date  Latitude  Longitude  Max Temperature  \\\n",
       "0       New Norfolk      AU  1616230928  -42.7826   147.0587            63.00   \n",
       "1         Busselton      AU  1616230928  -33.6500   115.3333            93.00   \n",
       "2          Noyabrsk      RU  1616230928   63.1994    75.4507             9.57   \n",
       "3    Port Elizabeth      ZA  1616230928  -33.9180    25.5701            68.00   \n",
       "4      Punta Arenas      CL  1616230928  -53.1500   -70.9167            39.20   \n",
       "..              ...     ...         ...       ...        ...              ...   \n",
       "561           Khani      GE  1616231055   41.9563    42.9566            50.00   \n",
       "562          Grajaú      BR  1616231055   -5.8194   -46.1386            70.00   \n",
       "563     Guasdualito      VE  1616231055    7.2424   -70.7324            75.36   \n",
       "564          Qarqīn      AF  1616231055   37.4185    66.0436            59.40   \n",
       "565          Naliya      IN  1616231056   23.2667    68.8333            97.74   \n",
       "\n",
       "     Humidity  Cloudiness  Wind Speed  \n",
       "0          58           0        2.93  \n",
       "1          24          10        1.99  \n",
       "2          93         100       23.47  \n",
       "3          94          90        3.44  \n",
       "4          81           0       13.80  \n",
       "..        ...         ...         ...  \n",
       "561        66          90       12.66  \n",
       "562        99          94        3.36  \n",
       "563        70         100        2.35  \n",
       "564        83         100       21.54  \n",
       "565        17           0       12.44  \n",
       "\n",
       "[554 rows x 9 columns]"
      ]
     },
     "execution_count": 15,
     "metadata": {},
     "output_type": "execute_result"
    }
   ],
   "source": [
    "# Make a new DataFrame equal to the city data to drop all humidity outliers by index.\n",
    "# Passing \"inplace=False\" will make a copy of the city_data DataFrame, which we call \"clean_city_data\".\n",
    "clean_city_data = weather_df.drop([102, 118, 187, 190, 398, 439, 449, 497, 518, 534, 543, 547])\n",
    "clean_city_data"
   ]
  },
  {
   "cell_type": "markdown",
   "metadata": {},
   "source": [
    "## Plotting the Data\n",
    "* Use proper labeling of the plots using plot titles (including date of analysis) and axes labels.\n",
    "* Save the plotted figures as .pngs."
   ]
  },
  {
   "cell_type": "markdown",
   "metadata": {},
   "source": [
    "## Latitude vs. Temperature Plot"
   ]
  },
  {
   "cell_type": "code",
   "execution_count": 16,
   "metadata": {
    "scrolled": true
   },
   "outputs": [
    {
     "data": {
      "image/png": "[encoded data removed]",
      "text/plain": [
       "<Figure size 432x288 with 1 Axes>"
      ]
     },
     "metadata": {
      "needs_background": "light"
     },
     "output_type": "display_data"
    }
   ],
   "source": [
    "plt.scatter(clean_city_data[\"Latitude\"], clean_city_data[\"Max Temperature\"], facecolors = \"lightblue\", marker = \"o\", edgecolor=\"black\")\n",
    "\n",
    "plt.title(\"City Latitude vs Max Temperature (20/03/21)\")\n",
    "plt.xlabel(\"Latitude\")\n",
    "plt.ylabel(\"Max Temperature(F)\")\n",
    "plt.grid(True)\n",
    "\n",
    "plt.savefig(\"City_Latitude_vs_Max_Temperature.png\")\n",
    "\n",
    "plt.show()"
   ]
  },
  {
   "cell_type": "markdown",
   "metadata": {},
   "source": [
    "In the scatter plot above we are comparing the latitutde and max temperature of the cities generated."
   ]
  },
  {
   "cell_type": "markdown",
   "metadata": {},
   "source": [
    "## Latitude vs. Humidity Plot"
   ]
  },
  {
   "cell_type": "code",
   "execution_count": 17,
   "metadata": {},
   "outputs": [
    {
     "data": {
      "image/png": "[encoded data removed]",
      "text/plain": [
       "<Figure size 432x288 with 1 Axes>"
      ]
     },
     "metadata": {
      "needs_background": "light"
     },
     "output_type": "display_data"
    }
   ],
   "source": [
    "plt.scatter(clean_city_data[\"Latitude\"], clean_city_data[\"Humidity\"], facecolors = \"lightblue\", marker = \"o\", edgecolor=\"black\")\n",
    "\n",
    "plt.title(\"City Latitude vs Humidity (20/03/21)\")\n",
    "plt.xlabel(\"Latitude\")\n",
    "plt.ylabel(\"Humidity(%)\")\n",
    "plt.grid(True)\n",
    "\n",
    "plt.savefig(\"City_Latitude_vs_humidity.png\")\n",
    "\n",
    "plt.show()"
   ]
  },
  {
   "cell_type": "markdown",
   "metadata": {},
   "source": [
    "In the scatter plot above we are comparing the latitutde and humidity of the cities generated."
   ]
  },
  {
   "cell_type": "markdown",
   "metadata": {},
   "source": [
    "## Latitude vs. Cloudiness Plot"
   ]
  },
  {
   "cell_type": "code",
   "execution_count": 18,
   "metadata": {},
   "outputs": [
    {
     "data": {
      "image/png": "[encoded data removed]",
      "text/plain": [
       "<Figure size 432x288 with 1 Axes>"
      ]
     },
     "metadata": {
      "needs_background": "light"
     },
     "output_type": "display_data"
    }
   ],
   "source": [
    "plt.scatter(clean_city_data[\"Latitude\"], clean_city_data[\"Cloudiness\"], facecolors = \"lightblue\", marker = \"o\", edgecolor=\"black\")\n",
    "\n",
    "plt.title(\"City Latitude vs Cloudiness (20/03/21)\")\n",
    "plt.xlabel(\"Latitude\")\n",
    "plt.ylabel(\"Cloudiness(%)\")\n",
    "plt.grid(True)\n",
    "\n",
    "plt.savefig(\"City_Latitude_vs_cloudiness.png\")\n",
    "\n",
    "plt.show()"
   ]
  },
  {
   "cell_type": "markdown",
   "metadata": {},
   "source": [
    "In the scatter plot above we are comparing the latitutde and cloudiness of the cities generated."
   ]
  },
  {
   "cell_type": "markdown",
   "metadata": {},
   "source": [
    "## Latitude vs. Wind Speed Plot"
   ]
  },
  {
   "cell_type": "code",
   "execution_count": 19,
   "metadata": {},
   "outputs": [
    {
     "data": {
      "image/png": "[encoded data removed]",
      "text/plain": [
       "<Figure size 432x288 with 1 Axes>"
      ]
     },
     "metadata": {
      "needs_background": "light"
     },
     "output_type": "display_data"
    }
   ],
   "source": [
    "plt.scatter(clean_city_data[\"Latitude\"], clean_city_data[\"Wind Speed\"], facecolors = \"lightblue\", marker = \"o\", edgecolor=\"black\")\n",
    "\n",
    "plt.title(\"City Latitude vs Wind Speed (20/03/21)\")\n",
    "plt.xlabel(\"Latitude\")\n",
    "plt.ylabel(\"Wind Speed(mph)\")\n",
    "plt.grid(True)\n",
    "\n",
    "plt.savefig(\"City_Latitude_vs_windspeed.png\")\n",
    "\n",
    "plt.show()"
   ]
  },
  {
   "cell_type": "markdown",
   "metadata": {},
   "source": [
    "In the scatter plot above we are comparing the latitutde and wind speeds of the cities generated."
   ]
  },
  {
   "cell_type": "markdown",
   "metadata": {},
   "source": [
    "## Linear Regression"
   ]
  },
  {
   "cell_type": "code",
   "execution_count": 20,
   "metadata": {},
   "outputs": [],
   "source": [
    "north_hemisphere_df = clean_city_data.loc[clean_city_data[\"Latitude\"] >= 0]\n",
    "south_hemisphere_df = clean_city_data.loc[clean_city_data[\"Latitude\"] <= 0]"
   ]
  },
  {
   "cell_type": "markdown",
   "metadata": {},
   "source": [
    "####  Northern Hemisphere - Max Temp vs. Latitude Linear Regression"
   ]
  },
  {
   "cell_type": "code",
   "execution_count": 21,
   "metadata": {},
   "outputs": [
    {
     "name": "stdout",
     "output_type": "stream",
     "text": [
      "The r-squared is: 0.8013601175542981\n"
     ]
    },
    {
     "data": {
      "image/png": "[encoded data removed]",
      "text/plain": [
       "<Figure size 432x288 with 1 Axes>"
      ]
     },
     "metadata": {
      "needs_background": "light"
     },
     "output_type": "display_data"
    }
   ],
   "source": [
    "x_values = north_hemisphere_df['Latitude']\n",
    "y_values = north_hemisphere_df['Max Temperature']\n",
    "(slope, intercept, rvalue, pvalue, stderr) = linregress(x_values, y_values)\n",
    "regress_values = x_values * slope + intercept\n",
    "line_eq = \"y = \" + str(round(slope,2)) + \"x + \" + str(round(intercept,2))\n",
    "plt.scatter(x_values,y_values)\n",
    "plt.plot(x_values,regress_values,\"r-\")\n",
    "plt.annotate(line_eq,(6,0),fontsize=15,color=\"red\")\n",
    "plt.xlabel('Latitude')\n",
    "plt.ylabel('Max Temp')\n",
    "print(f\"The r-squared is: {rvalue**2}\")\n",
    "plt.show()"
   ]
  },
  {
   "cell_type": "markdown",
   "metadata": {},
   "source": [
    "####  Southern Hemisphere - Max Temp vs. Latitude Linear Regression"
   ]
  },
  {
   "cell_type": "code",
   "execution_count": 22,
   "metadata": {},
   "outputs": [
    {
     "name": "stdout",
     "output_type": "stream",
     "text": [
      "The r-squared is: 0.4155535395281711\n"
     ]
    },
    {
     "data": {
      "image/png": "[encoded data removed]",
      "text/plain": [
       "<Figure size 432x288 with 1 Axes>"
      ]
     },
     "metadata": {
      "needs_background": "light"
     },
     "output_type": "display_data"
    }
   ],
   "source": [
    "x_values = south_hemisphere_df['Latitude']\n",
    "y_values = south_hemisphere_df['Max Temperature']\n",
    "(slope, intercept, rvalue, pvalue, stderr) = linregress(x_values, y_values)\n",
    "regress_values = x_values * slope + intercept\n",
    "line_eq = \"y = \" + str(round(slope,2)) + \"x + \" + str(round(intercept,2))\n",
    "plt.scatter(x_values,y_values)\n",
    "plt.plot(x_values,regress_values,\"r-\")\n",
    "plt.annotate(line_eq,(-50,55),fontsize=15,color=\"red\")\n",
    "plt.xlabel('Latitude')\n",
    "plt.ylabel('Max Temp (C)')\n",
    "print(f\"The r-squared is: {rvalue**2}\")\n",
    "plt.show()"
   ]
  },
  {
   "cell_type": "markdown",
   "metadata": {},
   "source": [
    "####  Northern Hemisphere - Humidity (%) vs. Latitude Linear Regression"
   ]
  },
  {
   "cell_type": "code",
   "execution_count": 23,
   "metadata": {},
   "outputs": [
    {
     "name": "stdout",
     "output_type": "stream",
     "text": [
      "The r-squared is: 0.15194116678469516\n"
     ]
    },
    {
     "data": {
      "image/png": "[encoded data removed]",
      "text/plain": [
       "<Figure size 432x288 with 1 Axes>"
      ]
     },
     "metadata": {
      "needs_background": "light"
     },
     "output_type": "display_data"
    }
   ],
   "source": [
    "x_values = north_hemisphere_df['Latitude']\n",
    "y_values = north_hemisphere_df['Humidity']\n",
    "(slope, intercept, rvalue, pvalue, stderr) = linregress(x_values, y_values)\n",
    "regress_values = x_values * slope + intercept\n",
    "line_eq = \"y = \" + str(round(slope,2)) + \"x + \" + str(round(intercept,2))\n",
    "plt.scatter(x_values,y_values)\n",
    "plt.plot(x_values,regress_values,\"r-\")\n",
    "plt.annotate(line_eq,(6,40),fontsize=15,color=\"red\")\n",
    "plt.xlabel('Latitude')\n",
    "plt.ylabel('Humidity')\n",
    "print(f\"The r-squared is: {rvalue**2}\")\n",
    "plt.show()"
   ]
  },
  {
   "cell_type": "markdown",
   "metadata": {},
   "source": [
    "####  Southern Hemisphere - Humidity (%) vs. Latitude Linear Regression"
   ]
  },
  {
   "cell_type": "code",
   "execution_count": 24,
   "metadata": {},
   "outputs": [
    {
     "name": "stdout",
     "output_type": "stream",
     "text": [
      "The r-squared is: 0.013192965563307901\n"
     ]
    },
    {
     "data": {
      "image/png": "[encoded data removed]",
      "text/plain": [
       "<Figure size 432x288 with 1 Axes>"
      ]
     },
     "metadata": {
      "needs_background": "light"
     },
     "output_type": "display_data"
    }
   ],
   "source": [
    "x_values = south_hemisphere_df['Latitude']\n",
    "y_values = south_hemisphere_df['Humidity']\n",
    "(slope, intercept, rvalue, pvalue, stderr) = linregress(x_values, y_values)\n",
    "regress_values = x_values * slope + intercept\n",
    "line_eq = \"y = \" + str(round(slope,2)) + \"x + \" + str(round(intercept,2))\n",
    "plt.scatter(x_values,y_values)\n",
    "plt.plot(x_values,regress_values,\"r-\")\n",
    "plt.annotate(line_eq,(-50,50),fontsize=15,color=\"red\")\n",
    "plt.xlabel('Latitude')\n",
    "plt.ylabel('Humidity')\n",
    "print(f\"The r-squared is: {rvalue**2}\")\n",
    "plt.show()"
   ]
  },
  {
   "cell_type": "markdown",
   "metadata": {},
   "source": [
    "####  Northern Hemisphere - Cloudiness (%) vs. Latitude Linear Regression"
   ]
  },
  {
   "cell_type": "code",
   "execution_count": 25,
   "metadata": {},
   "outputs": [
    {
     "name": "stdout",
     "output_type": "stream",
     "text": [
      "The r-squared is: 0.024382360599326972\n"
     ]
    },
    {
     "data": {
      "image/png": "[encoded data removed]",
      "text/plain": [
       "<Figure size 432x288 with 1 Axes>"
      ]
     },
     "metadata": {
      "needs_background": "light"
     },
     "output_type": "display_data"
    }
   ],
   "source": [
    "x_values = north_hemisphere_df['Latitude']\n",
    "y_values = north_hemisphere_df['Cloudiness']\n",
    "(slope, intercept, rvalue, pvalue, stderr) = linregress(x_values, y_values)\n",
    "regress_values = x_values * slope + intercept\n",
    "line_eq = \"y = \" + str(round(slope,2)) + \"x + \" + str(round(intercept,2))\n",
    "plt.scatter(x_values,y_values)\n",
    "plt.plot(x_values,regress_values,\"r-\")\n",
    "plt.annotate(line_eq,(6,10),fontsize=15,color=\"red\")\n",
    "plt.xlabel('Latitude')\n",
    "plt.ylabel('Cloudiness')\n",
    "print(f\"The r-squared is: {rvalue**2}\")\n",
    "plt.show()"
   ]
  },
  {
   "cell_type": "markdown",
   "metadata": {},
   "source": [
    "####  Southern Hemisphere - Cloudiness (%) vs. Latitude Linear Regression"
   ]
  },
  {
   "cell_type": "code",
   "execution_count": 26,
   "metadata": {},
   "outputs": [
    {
     "name": "stdout",
     "output_type": "stream",
     "text": [
      "The r-squared is: 0.09107581813545289\n"
     ]
    },
    {
     "data": {
      "image/png": "[encoded data removed]",
      "text/plain": [
       "<Figure size 432x288 with 1 Axes>"
      ]
     },
     "metadata": {
      "needs_background": "light"
     },
     "output_type": "display_data"
    }
   ],
   "source": [
    "x_values = south_hemisphere_df['Latitude']\n",
    "y_values = south_hemisphere_df['Cloudiness']\n",
    "(slope, intercept, rvalue, pvalue, stderr) = linregress(x_values, y_values)\n",
    "regress_values = x_values * slope + intercept\n",
    "line_eq = \"y = \" + str(round(slope,2)) + \"x + \" + str(round(intercept,2))\n",
    "plt.scatter(x_values,y_values)\n",
    "plt.plot(x_values,regress_values,\"r-\")\n",
    "plt.annotate(line_eq,(-50,20),fontsize=15,color=\"red\")\n",
    "plt.xlabel('Latitude')\n",
    "plt.ylabel('Cloudiness')\n",
    "print(f\"The r-squared is: {rvalue**2}\")\n",
    "plt.show()"
   ]
  },
  {
   "cell_type": "markdown",
   "metadata": {},
   "source": [
    "####  Northern Hemisphere - Wind Speed (mph) vs. Latitude Linear Regression"
   ]
  },
  {
   "cell_type": "code",
   "execution_count": 27,
   "metadata": {},
   "outputs": [
    {
     "name": "stdout",
     "output_type": "stream",
     "text": [
      "The r-squared is: 0.005177615217181317\n"
     ]
    },
    {
     "data": {
      "image/png": "[encoded data removed]",
      "text/plain": [
       "<Figure size 432x288 with 1 Axes>"
      ]
     },
     "metadata": {
      "needs_background": "light"
     },
     "output_type": "display_data"
    }
   ],
   "source": [
    "x_values = north_hemisphere_df['Latitude']\n",
    "y_values = north_hemisphere_df['Wind Speed']\n",
    "(slope, intercept, rvalue, pvalue, stderr) = linregress(x_values, y_values)\n",
    "regress_values = x_values * slope + intercept\n",
    "line_eq = \"y = \" + str(round(slope,2)) + \"x + \" + str(round(intercept,2))\n",
    "plt.scatter(x_values,y_values)\n",
    "plt.plot(x_values,regress_values,\"r-\")\n",
    "plt.annotate(line_eq,(6,25),fontsize=15,color=\"red\")\n",
    "plt.xlabel('Latitude')\n",
    "plt.ylabel('Wind Speed (mph)')\n",
    "print(f\"The r-squared is: {rvalue**2}\")\n",
    "plt.show()"
   ]
  },
  {
   "cell_type": "markdown",
   "metadata": {},
   "source": [
    "####  Southern Hemisphere - Wind Speed (mph) vs. Latitude Linear Regression"
   ]
  },
  {
   "cell_type": "code",
   "execution_count": 28,
   "metadata": {},
   "outputs": [
    {
     "name": "stdout",
     "output_type": "stream",
     "text": [
      "The r-squared is: 0.11591746809978523\n"
     ]
    },
    {
     "data": {
      "image/png": "[encoded data removed]",
      "text/plain": [
       "<Figure size 432x288 with 1 Axes>"
      ]
     },
     "metadata": {
      "needs_background": "light"
     },
     "output_type": "display_data"
    }
   ],
   "source": [
    "x_values = south_hemisphere_df['Latitude']\n",
    "y_values = south_hemisphere_df['Wind Speed']\n",
    "(slope, intercept, rvalue, pvalue, stderr) = linregress(x_values, y_values)\n",
    "regress_values = x_values * slope + intercept\n",
    "line_eq = \"y = \" + str(round(slope,2)) + \"x + \" + str(round(intercept,2))\n",
    "plt.scatter(x_values,y_values)\n",
    "plt.plot(x_values,regress_values,\"r-\")\n",
    "plt.annotate(line_eq,(-50,25),fontsize=15,color=\"red\")\n",
    "plt.xlabel('Latitude')\n",
    "plt.ylabel('Wind Speed (mph)')\n",
    "print(f\"The r-squared is: {rvalue**2}\")\n",
    "plt.show()"
   ]
  }
 ],
 "metadata": {
  "anaconda-cloud": {},
  "kernel_info": {
   "name": "python3"
  },
  "kernelspec": {
   "display_name": "Python 3",
   "language": "python",
   "name": "python3"
  },
  "language_info": {
   "codemirror_mode": {
    "name": "ipython",
    "version": 3
   },
   "file_extension": ".py",
   "mimetype": "text/x-python",
   "name": "python",
   "nbconvert_exporter": "python",
   "pygments_lexer": "ipython3",
   "version": "3.6.10"
  },
  "latex_envs": {
   "LaTeX_envs_menu_present": true,
   "autoclose": false,
   "autocomplete": true,
   "bibliofile": "biblio.bib",
   "cite_by": "apalike",
   "current_citInitial": 1,
   "eqLabelWithNumbers": true,
   "eqNumInitial": 1,
   "hotkeys": {
    "equation": "Ctrl-E",
    "itemize": "Ctrl-I"
   },
   "labels_anchors": false,
   "latex_user_defs": false,
   "report_style_numbering": false,
   "user_envs_cfg": false
  },
  "nteract": {
   "version": "0.12.3"
  }
 },
 "nbformat": 4,
 "nbformat_minor": 2
}
